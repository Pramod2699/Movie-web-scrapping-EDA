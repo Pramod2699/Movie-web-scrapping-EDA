{
 "cells": [
  {
   "cell_type": "code",
   "execution_count": 1,
   "id": "b5b018b3",
   "metadata": {},
   "outputs": [],
   "source": [
    "import pandas as pd\n",
    "import matplotlib.pyplot as plt\n",
    "import seaborn as sns"
   ]
  },
  {
   "cell_type": "code",
   "execution_count": 2,
   "id": "f7fbac73",
   "metadata": {},
   "outputs": [
    {
     "data": {
      "text/html": [
       "<div>\n",
       "<style scoped>\n",
       "    .dataframe tbody tr th:only-of-type {\n",
       "        vertical-align: middle;\n",
       "    }\n",
       "\n",
       "    .dataframe tbody tr th {\n",
       "        vertical-align: top;\n",
       "    }\n",
       "\n",
       "    .dataframe thead th {\n",
       "        text-align: right;\n",
       "    }\n",
       "</style>\n",
       "<table border=\"1\" class=\"dataframe\">\n",
       "  <thead>\n",
       "    <tr style=\"text-align: right;\">\n",
       "      <th></th>\n",
       "      <th>Unnamed: 0</th>\n",
       "      <th>name</th>\n",
       "      <th>rating</th>\n",
       "      <th>genre</th>\n",
       "      <th>release date</th>\n",
       "      <th>runtime</th>\n",
       "      <th>director</th>\n",
       "      <th>url</th>\n",
       "    </tr>\n",
       "  </thead>\n",
       "  <tbody>\n",
       "    <tr>\n",
       "      <th>0</th>\n",
       "      <td>0</td>\n",
       "      <td>The Batman</td>\n",
       "      <td>79</td>\n",
       "      <td>Crime, Mystery, Thriller</td>\n",
       "      <td>03/04/2022 (IN)</td>\n",
       "      <td>2h 56m</td>\n",
       "      <td>Matt Reeves</td>\n",
       "      <td>https://www.themoviedb.org/movie/414906</td>\n",
       "    </tr>\n",
       "    <tr>\n",
       "      <th>1</th>\n",
       "      <td>1</td>\n",
       "      <td>Spider-Man: No Way Home</td>\n",
       "      <td>82</td>\n",
       "      <td>Action, Adventure, Science Fiction</td>\n",
       "      <td>12/17/2021 (IN)</td>\n",
       "      <td>2h 28m</td>\n",
       "      <td>Jon Watts</td>\n",
       "      <td>https://www.themoviedb.org/movie/634649</td>\n",
       "    </tr>\n",
       "    <tr>\n",
       "      <th>2</th>\n",
       "      <td>2</td>\n",
       "      <td>War of the Worlds: Annihilation</td>\n",
       "      <td>59</td>\n",
       "      <td>Science Fiction, Action</td>\n",
       "      <td>12/22/2021 (US)</td>\n",
       "      <td>1h 53m</td>\n",
       "      <td>Maximilian Elfeldt</td>\n",
       "      <td>https://www.themoviedb.org/movie/919689</td>\n",
       "    </tr>\n",
       "    <tr>\n",
       "      <th>3</th>\n",
       "      <td>3</td>\n",
       "      <td>Turning Red</td>\n",
       "      <td>75</td>\n",
       "      <td>Animation, Family, Comedy, Fantasy</td>\n",
       "      <td>03/10/2022 (CZ)</td>\n",
       "      <td>1h 40m</td>\n",
       "      <td>Domee Shi</td>\n",
       "      <td>https://www.themoviedb.org/movie/508947</td>\n",
       "    </tr>\n",
       "    <tr>\n",
       "      <th>4</th>\n",
       "      <td>4</td>\n",
       "      <td>Sonic the Hedgehog 2</td>\n",
       "      <td>77</td>\n",
       "      <td>Action, Science Fiction, Comedy, Family</td>\n",
       "      <td>04/08/2022 (US)</td>\n",
       "      <td>2h 2m</td>\n",
       "      <td>Jeff Fowler</td>\n",
       "      <td>https://www.themoviedb.org/movie/675353</td>\n",
       "    </tr>\n",
       "  </tbody>\n",
       "</table>\n",
       "</div>"
      ],
      "text/plain": [
       "   Unnamed: 0                             name rating  \\\n",
       "0           0                       The Batman     79   \n",
       "1           1          Spider-Man: No Way Home     82   \n",
       "2           2  War of the Worlds: Annihilation     59   \n",
       "3           3                      Turning Red     75   \n",
       "4           4             Sonic the Hedgehog 2     77   \n",
       "\n",
       "                                     genre     release date runtime  \\\n",
       "0                 Crime, Mystery, Thriller  03/04/2022 (IN)  2h 56m   \n",
       "1       Action, Adventure, Science Fiction  12/17/2021 (IN)  2h 28m   \n",
       "2                  Science Fiction, Action  12/22/2021 (US)  1h 53m   \n",
       "3       Animation, Family, Comedy, Fantasy  03/10/2022 (CZ)  1h 40m   \n",
       "4  Action, Science Fiction, Comedy, Family  04/08/2022 (US)   2h 2m   \n",
       "\n",
       "             director                                      url  \n",
       "0         Matt Reeves  https://www.themoviedb.org/movie/414906  \n",
       "1           Jon Watts  https://www.themoviedb.org/movie/634649  \n",
       "2  Maximilian Elfeldt  https://www.themoviedb.org/movie/919689  \n",
       "3           Domee Shi  https://www.themoviedb.org/movie/508947  \n",
       "4         Jeff Fowler  https://www.themoviedb.org/movie/675353  "
      ]
     },
     "execution_count": 2,
     "metadata": {},
     "output_type": "execute_result"
    }
   ],
   "source": [
    "data=pd.read_csv(\"Movies data\")\n",
    "data.head()"
   ]
  },
  {
   "cell_type": "code",
   "execution_count": 3,
   "id": "bbf57d70",
   "metadata": {},
   "outputs": [],
   "source": [
    "data.drop('Unnamed: 0',axis=1,inplace=True)"
   ]
  },
  {
   "cell_type": "code",
   "execution_count": 4,
   "id": "11a0f700",
   "metadata": {},
   "outputs": [
    {
     "data": {
      "text/plain": [
       "array(['79', '82', '59', '75', '77', '65', '70', '62', '61', '63', '69',\n",
       "       '66', '73', '64', '71', '74', '58', '68', '54', '48', '84', '55',\n",
       "       '81', '60', '57', '67', '76', '52', '49', '72', '43', '24', '44',\n",
       "       '56', '80', '78', 'NR', '85', '0\"', '83', '51', '53', '33', '46',\n",
       "       '45', '39', '42', '47', '41', '20', '15', '31', '50', '88', '86',\n",
       "       '87', '40', '37', '28', '13', '89', '36', '35', '30', '34', '38',\n",
       "       '29', '90', '27', '91', '25', '32', '23', '95', '10'], dtype=object)"
      ]
     },
     "execution_count": 4,
     "metadata": {},
     "output_type": "execute_result"
    }
   ],
   "source": [
    "data['rating'].unique()"
   ]
  },
  {
   "cell_type": "code",
   "execution_count": 5,
   "id": "66976a27",
   "metadata": {},
   "outputs": [
    {
     "data": {
      "text/html": [
       "<div>\n",
       "<style scoped>\n",
       "    .dataframe tbody tr th:only-of-type {\n",
       "        vertical-align: middle;\n",
       "    }\n",
       "\n",
       "    .dataframe tbody tr th {\n",
       "        vertical-align: top;\n",
       "    }\n",
       "\n",
       "    .dataframe thead th {\n",
       "        text-align: right;\n",
       "    }\n",
       "</style>\n",
       "<table border=\"1\" class=\"dataframe\">\n",
       "  <thead>\n",
       "    <tr style=\"text-align: right;\">\n",
       "      <th></th>\n",
       "      <th>name</th>\n",
       "      <th>rating</th>\n",
       "      <th>genre</th>\n",
       "      <th>release date</th>\n",
       "      <th>runtime</th>\n",
       "      <th>director</th>\n",
       "      <th>url</th>\n",
       "    </tr>\n",
       "  </thead>\n",
       "  <tbody>\n",
       "    <tr>\n",
       "      <th>97</th>\n",
       "      <td>Doctor Strange in the Multiverse of Madness</td>\n",
       "      <td>NR</td>\n",
       "      <td>Fantasy, Action, Adventure</td>\n",
       "      <td>05/06/2022 (US)</td>\n",
       "      <td>2h 6m</td>\n",
       "      <td>Sam Raimi</td>\n",
       "      <td>https://www.themoviedb.org/movie/453395</td>\n",
       "    </tr>\n",
       "    <tr>\n",
       "      <th>180</th>\n",
       "      <td>After Ever Happy</td>\n",
       "      <td>NR</td>\n",
       "      <td>Romance</td>\n",
       "      <td>08/25/2022 (UA)</td>\n",
       "      <td>1h 59m</td>\n",
       "      <td>Castille Landon</td>\n",
       "      <td>https://www.themoviedb.org/movie/744276</td>\n",
       "    </tr>\n",
       "    <tr>\n",
       "      <th>210</th>\n",
       "      <td>Dragon Ball Super: Super Hero</td>\n",
       "      <td>NR</td>\n",
       "      <td>Animation, Science Fiction, Action</td>\n",
       "      <td>06/11/2022 (JP)</td>\n",
       "      <td>None</td>\n",
       "      <td>Tetsuro Kodama</td>\n",
       "      <td>https://www.themoviedb.org/movie/610150</td>\n",
       "    </tr>\n",
       "    <tr>\n",
       "      <th>362</th>\n",
       "      <td>Jurassic World Dominion</td>\n",
       "      <td>NR</td>\n",
       "      <td>Adventure, Action, Science Fiction, Thriller</td>\n",
       "      <td>06/10/2022 (US)</td>\n",
       "      <td>2h 26m</td>\n",
       "      <td>Colin Trevorrow</td>\n",
       "      <td>https://www.themoviedb.org/movie/507086</td>\n",
       "    </tr>\n",
       "    <tr>\n",
       "      <th>381</th>\n",
       "      <td>Thor: Love and Thunder</td>\n",
       "      <td>NR</td>\n",
       "      <td>Adventure, Fantasy, Comedy</td>\n",
       "      <td>07/08/2022 (US)</td>\n",
       "      <td>None</td>\n",
       "      <td>Taika Waititi</td>\n",
       "      <td>https://www.themoviedb.org/movie/616037</td>\n",
       "    </tr>\n",
       "    <tr>\n",
       "      <th>699</th>\n",
       "      <td>Miraculous Ladybug &amp; Cat Noir: The Movie</td>\n",
       "      <td>NR</td>\n",
       "      <td>Action, Animation, Adventure, Fantasy, Music</td>\n",
       "      <td>08/03/2022 (FR)</td>\n",
       "      <td>None</td>\n",
       "      <td>Jeremy Zag</td>\n",
       "      <td>https://www.themoviedb.org/movie/496450</td>\n",
       "    </tr>\n",
       "    <tr>\n",
       "      <th>812</th>\n",
       "      <td>Minions: The Rise of Gru</td>\n",
       "      <td>NR</td>\n",
       "      <td>Family, Animation, Action, Adventure, Comedy</td>\n",
       "      <td>07/01/2022 (US)</td>\n",
       "      <td>1h 30m</td>\n",
       "      <td>Kyle Balda</td>\n",
       "      <td>https://www.themoviedb.org/movie/438148</td>\n",
       "    </tr>\n",
       "    <tr>\n",
       "      <th>827</th>\n",
       "      <td>Top Gun: Maverick</td>\n",
       "      <td>NR</td>\n",
       "      <td>Action, Drama</td>\n",
       "      <td>05/27/2022 (US)</td>\n",
       "      <td>2h 11m</td>\n",
       "      <td>Joseph Kosinski</td>\n",
       "      <td>https://www.themoviedb.org/movie/361743</td>\n",
       "    </tr>\n",
       "    <tr>\n",
       "      <th>857</th>\n",
       "      <td>365 Days: This Day</td>\n",
       "      <td>NR</td>\n",
       "      <td>Drama, Romance</td>\n",
       "      <td>04/27/2022 (US)</td>\n",
       "      <td>1h 49m</td>\n",
       "      <td>Barbara Bialowas</td>\n",
       "      <td>https://www.themoviedb.org/movie/829557</td>\n",
       "    </tr>\n",
       "    <tr>\n",
       "      <th>860</th>\n",
       "      <td>One Piece Film: Red</td>\n",
       "      <td>NR</td>\n",
       "      <td>Animation, Adventure, Action, Fantasy</td>\n",
       "      <td>08/06/2022 (JP)</td>\n",
       "      <td>None</td>\n",
       "      <td>Goro Taniguchi</td>\n",
       "      <td>https://www.themoviedb.org/movie/900667</td>\n",
       "    </tr>\n",
       "    <tr>\n",
       "      <th>1219</th>\n",
       "      <td>Constantine: The House of Mystery</td>\n",
       "      <td>NR</td>\n",
       "      <td>Fantasy, Animation, Horror, Action</td>\n",
       "      <td>05/03/2022 (US)</td>\n",
       "      <td>1h 4m</td>\n",
       "      <td>Matt Peters</td>\n",
       "      <td>https://www.themoviedb.org/movie/791348</td>\n",
       "    </tr>\n",
       "    <tr>\n",
       "      <th>1894</th>\n",
       "      <td>Lightyear</td>\n",
       "      <td>NR</td>\n",
       "      <td>Animation, Science Fiction, Adventure, Family,...</td>\n",
       "      <td>06/17/2022 (US)</td>\n",
       "      <td>None</td>\n",
       "      <td>Angus MacLane</td>\n",
       "      <td>https://www.themoviedb.org/movie/718789</td>\n",
       "    </tr>\n",
       "    <tr>\n",
       "      <th>1936</th>\n",
       "      <td>On the Edge</td>\n",
       "      <td>NR</td>\n",
       "      <td>Thriller</td>\n",
       "      <td>07/15/2022 (ES)</td>\n",
       "      <td>1h 39m</td>\n",
       "      <td>Giordano Gederlini</td>\n",
       "      <td>https://www.themoviedb.org/movie/925459</td>\n",
       "    </tr>\n",
       "    <tr>\n",
       "      <th>2601</th>\n",
       "      <td>Black Adam</td>\n",
       "      <td>NR</td>\n",
       "      <td>Action, Fantasy, Adventure</td>\n",
       "      <td>10/21/2022 (US)</td>\n",
       "      <td>None</td>\n",
       "      <td>Jaume Collet-Serra</td>\n",
       "      <td>https://www.themoviedb.org/movie/436270</td>\n",
       "    </tr>\n",
       "    <tr>\n",
       "      <th>2616</th>\n",
       "      <td>Puss in Boots: The Last Wish</td>\n",
       "      <td>NR</td>\n",
       "      <td>Animation, Adventure, Comedy, Family, Fantasy,...</td>\n",
       "      <td>09/23/2022 (US)</td>\n",
       "      <td>None</td>\n",
       "      <td>Joel Crawford</td>\n",
       "      <td>https://www.themoviedb.org/movie/315162</td>\n",
       "    </tr>\n",
       "    <tr>\n",
       "      <th>3008</th>\n",
       "      <td>Bullet Train</td>\n",
       "      <td>NR</td>\n",
       "      <td>Action, Thriller, Mystery</td>\n",
       "      <td>07/29/2022 (US)</td>\n",
       "      <td>None</td>\n",
       "      <td>David Leitch</td>\n",
       "      <td>https://www.themoviedb.org/movie/718930</td>\n",
       "    </tr>\n",
       "    <tr>\n",
       "      <th>3351</th>\n",
       "      <td>Memory</td>\n",
       "      <td>NR</td>\n",
       "      <td>Mystery, Thriller, Action, Crime</td>\n",
       "      <td>04/29/2022 (US)</td>\n",
       "      <td>1h 54m</td>\n",
       "      <td>Martin Campbell</td>\n",
       "      <td>https://www.themoviedb.org/movie/818397</td>\n",
       "    </tr>\n",
       "    <tr>\n",
       "      <th>3932</th>\n",
       "      <td>Downton Abbey: A New Era</td>\n",
       "      <td>NR</td>\n",
       "      <td>Drama, History, Romance</td>\n",
       "      <td>05/20/2022 (US)</td>\n",
       "      <td>2h 5m</td>\n",
       "      <td>Simon Curtis</td>\n",
       "      <td>https://www.themoviedb.org/movie/820446</td>\n",
       "    </tr>\n",
       "    <tr>\n",
       "      <th>4804</th>\n",
       "      <td>DC League of Super-Pets</td>\n",
       "      <td>NR</td>\n",
       "      <td>Action, Animation, Comedy, Family</td>\n",
       "      <td>07/29/2022 (US)</td>\n",
       "      <td>None</td>\n",
       "      <td>Jared Stern</td>\n",
       "      <td>https://www.themoviedb.org/movie/539681</td>\n",
       "    </tr>\n",
       "    <tr>\n",
       "      <th>5583</th>\n",
       "      <td>Paws of Fury: The Legend of Hank</td>\n",
       "      <td>NR</td>\n",
       "      <td>Family, Comedy, Animation, Action</td>\n",
       "      <td>07/15/2022 (US)</td>\n",
       "      <td>1h 37m</td>\n",
       "      <td>Mark Koetsier,Rob Minkoff</td>\n",
       "      <td>https://www.themoviedb.org/movie/366672</td>\n",
       "    </tr>\n",
       "    <tr>\n",
       "      <th>7019</th>\n",
       "      <td>Alone Together</td>\n",
       "      <td>NR</td>\n",
       "      <td>Drama, Romance</td>\n",
       "      <td>06/14/2022 (US)</td>\n",
       "      <td>1h 33m</td>\n",
       "      <td>Katie Holmes</td>\n",
       "      <td>https://www.themoviedb.org/movie/826113</td>\n",
       "    </tr>\n",
       "    <tr>\n",
       "      <th>7098</th>\n",
       "      <td>Elvis</td>\n",
       "      <td>NR</td>\n",
       "      <td>Drama, Music, History</td>\n",
       "      <td>06/24/2022 (US)</td>\n",
       "      <td>2h 37m</td>\n",
       "      <td>Baz Luhrmann</td>\n",
       "      <td>https://www.themoviedb.org/movie/614934</td>\n",
       "    </tr>\n",
       "    <tr>\n",
       "      <th>7524</th>\n",
       "      <td>Firestarter</td>\n",
       "      <td>NR</td>\n",
       "      <td>Thriller, Fantasy, Horror</td>\n",
       "      <td>05/13/2022 (US)</td>\n",
       "      <td>None</td>\n",
       "      <td>Keith Thomas</td>\n",
       "      <td>https://www.themoviedb.org/movie/532710</td>\n",
       "    </tr>\n",
       "    <tr>\n",
       "      <th>7590</th>\n",
       "      <td>Halloween Ends</td>\n",
       "      <td>NR</td>\n",
       "      <td>Horror, Thriller</td>\n",
       "      <td>10/14/2022 (US)</td>\n",
       "      <td>None</td>\n",
       "      <td>David Gordon Green</td>\n",
       "      <td>https://www.themoviedb.org/movie/616820</td>\n",
       "    </tr>\n",
       "    <tr>\n",
       "      <th>8534</th>\n",
       "      <td>Tad the Lost Explorer and the Mummy's Curse</td>\n",
       "      <td>NR</td>\n",
       "      <td>Adventure, Animation, Comedy, Family</td>\n",
       "      <td>08/26/2022 (ES)</td>\n",
       "      <td>1h 32m</td>\n",
       "      <td>Enrique Gato</td>\n",
       "      <td>https://www.themoviedb.org/movie/676701</td>\n",
       "    </tr>\n",
       "    <tr>\n",
       "      <th>8874</th>\n",
       "      <td>Nope</td>\n",
       "      <td>NR</td>\n",
       "      <td>Horror, Mystery, Science Fiction, Thriller</td>\n",
       "      <td>07/22/2022 (US)</td>\n",
       "      <td>None</td>\n",
       "      <td>Jordan Peele</td>\n",
       "      <td>https://www.themoviedb.org/movie/762504</td>\n",
       "    </tr>\n",
       "    <tr>\n",
       "      <th>9125</th>\n",
       "      <td>Crush</td>\n",
       "      <td>NR</td>\n",
       "      <td>Drama, Romance, Comedy</td>\n",
       "      <td>04/29/2022 (US)</td>\n",
       "      <td>1h 32m</td>\n",
       "      <td>Sammi Cohen</td>\n",
       "      <td>https://www.themoviedb.org/movie/860159</td>\n",
       "    </tr>\n",
       "    <tr>\n",
       "      <th>9169</th>\n",
       "      <td>Honeymoon With My Mother</td>\n",
       "      <td>NR</td>\n",
       "      <td>Comedy</td>\n",
       "      <td>04/29/2022 (ES)</td>\n",
       "      <td>1h 50m</td>\n",
       "      <td>Paco Caballero</td>\n",
       "      <td>https://www.themoviedb.org/movie/955971</td>\n",
       "    </tr>\n",
       "  </tbody>\n",
       "</table>\n",
       "</div>"
      ],
      "text/plain": [
       "                                             name rating  \\\n",
       "97    Doctor Strange in the Multiverse of Madness     NR   \n",
       "180                              After Ever Happy     NR   \n",
       "210                 Dragon Ball Super: Super Hero     NR   \n",
       "362                       Jurassic World Dominion     NR   \n",
       "381                        Thor: Love and Thunder     NR   \n",
       "699      Miraculous Ladybug & Cat Noir: The Movie     NR   \n",
       "812                      Minions: The Rise of Gru     NR   \n",
       "827                             Top Gun: Maverick     NR   \n",
       "857                            365 Days: This Day     NR   \n",
       "860                           One Piece Film: Red     NR   \n",
       "1219            Constantine: The House of Mystery     NR   \n",
       "1894                                    Lightyear     NR   \n",
       "1936                                  On the Edge     NR   \n",
       "2601                                   Black Adam     NR   \n",
       "2616                 Puss in Boots: The Last Wish     NR   \n",
       "3008                                 Bullet Train     NR   \n",
       "3351                                       Memory     NR   \n",
       "3932                     Downton Abbey: A New Era     NR   \n",
       "4804                      DC League of Super-Pets     NR   \n",
       "5583             Paws of Fury: The Legend of Hank     NR   \n",
       "7019                               Alone Together     NR   \n",
       "7098                                        Elvis     NR   \n",
       "7524                                  Firestarter     NR   \n",
       "7590                               Halloween Ends     NR   \n",
       "8534  Tad the Lost Explorer and the Mummy's Curse     NR   \n",
       "8874                                         Nope     NR   \n",
       "9125                                        Crush     NR   \n",
       "9169                     Honeymoon With My Mother     NR   \n",
       "\n",
       "                                                  genre     release date  \\\n",
       "97                           Fantasy, Action, Adventure  05/06/2022 (US)   \n",
       "180                                             Romance  08/25/2022 (UA)   \n",
       "210                  Animation, Science Fiction, Action  06/11/2022 (JP)   \n",
       "362        Adventure, Action, Science Fiction, Thriller  06/10/2022 (US)   \n",
       "381                          Adventure, Fantasy, Comedy  07/08/2022 (US)   \n",
       "699        Action, Animation, Adventure, Fantasy, Music  08/03/2022 (FR)   \n",
       "812        Family, Animation, Action, Adventure, Comedy  07/01/2022 (US)   \n",
       "827                                       Action, Drama  05/27/2022 (US)   \n",
       "857                                      Drama, Romance  04/27/2022 (US)   \n",
       "860               Animation, Adventure, Action, Fantasy  08/06/2022 (JP)   \n",
       "1219                 Fantasy, Animation, Horror, Action  05/03/2022 (US)   \n",
       "1894  Animation, Science Fiction, Adventure, Family,...  06/17/2022 (US)   \n",
       "1936                                           Thriller  07/15/2022 (ES)   \n",
       "2601                         Action, Fantasy, Adventure  10/21/2022 (US)   \n",
       "2616  Animation, Adventure, Comedy, Family, Fantasy,...  09/23/2022 (US)   \n",
       "3008                          Action, Thriller, Mystery  07/29/2022 (US)   \n",
       "3351                   Mystery, Thriller, Action, Crime  04/29/2022 (US)   \n",
       "3932                            Drama, History, Romance  05/20/2022 (US)   \n",
       "4804                  Action, Animation, Comedy, Family  07/29/2022 (US)   \n",
       "5583                  Family, Comedy, Animation, Action  07/15/2022 (US)   \n",
       "7019                                     Drama, Romance  06/14/2022 (US)   \n",
       "7098                              Drama, Music, History  06/24/2022 (US)   \n",
       "7524                          Thriller, Fantasy, Horror  05/13/2022 (US)   \n",
       "7590                                   Horror, Thriller  10/14/2022 (US)   \n",
       "8534               Adventure, Animation, Comedy, Family  08/26/2022 (ES)   \n",
       "8874         Horror, Mystery, Science Fiction, Thriller  07/22/2022 (US)   \n",
       "9125                             Drama, Romance, Comedy  04/29/2022 (US)   \n",
       "9169                                             Comedy  04/29/2022 (ES)   \n",
       "\n",
       "     runtime                   director  \\\n",
       "97     2h 6m                  Sam Raimi   \n",
       "180   1h 59m            Castille Landon   \n",
       "210     None             Tetsuro Kodama   \n",
       "362   2h 26m            Colin Trevorrow   \n",
       "381     None              Taika Waititi   \n",
       "699     None                 Jeremy Zag   \n",
       "812   1h 30m                 Kyle Balda   \n",
       "827   2h 11m            Joseph Kosinski   \n",
       "857   1h 49m           Barbara Bialowas   \n",
       "860     None             Goro Taniguchi   \n",
       "1219   1h 4m                Matt Peters   \n",
       "1894    None              Angus MacLane   \n",
       "1936  1h 39m         Giordano Gederlini   \n",
       "2601    None         Jaume Collet-Serra   \n",
       "2616    None              Joel Crawford   \n",
       "3008    None               David Leitch   \n",
       "3351  1h 54m            Martin Campbell   \n",
       "3932   2h 5m               Simon Curtis   \n",
       "4804    None                Jared Stern   \n",
       "5583  1h 37m  Mark Koetsier,Rob Minkoff   \n",
       "7019  1h 33m               Katie Holmes   \n",
       "7098  2h 37m               Baz Luhrmann   \n",
       "7524    None               Keith Thomas   \n",
       "7590    None         David Gordon Green   \n",
       "8534  1h 32m               Enrique Gato   \n",
       "8874    None               Jordan Peele   \n",
       "9125  1h 32m                Sammi Cohen   \n",
       "9169  1h 50m             Paco Caballero   \n",
       "\n",
       "                                          url  \n",
       "97    https://www.themoviedb.org/movie/453395  \n",
       "180   https://www.themoviedb.org/movie/744276  \n",
       "210   https://www.themoviedb.org/movie/610150  \n",
       "362   https://www.themoviedb.org/movie/507086  \n",
       "381   https://www.themoviedb.org/movie/616037  \n",
       "699   https://www.themoviedb.org/movie/496450  \n",
       "812   https://www.themoviedb.org/movie/438148  \n",
       "827   https://www.themoviedb.org/movie/361743  \n",
       "857   https://www.themoviedb.org/movie/829557  \n",
       "860   https://www.themoviedb.org/movie/900667  \n",
       "1219  https://www.themoviedb.org/movie/791348  \n",
       "1894  https://www.themoviedb.org/movie/718789  \n",
       "1936  https://www.themoviedb.org/movie/925459  \n",
       "2601  https://www.themoviedb.org/movie/436270  \n",
       "2616  https://www.themoviedb.org/movie/315162  \n",
       "3008  https://www.themoviedb.org/movie/718930  \n",
       "3351  https://www.themoviedb.org/movie/818397  \n",
       "3932  https://www.themoviedb.org/movie/820446  \n",
       "4804  https://www.themoviedb.org/movie/539681  \n",
       "5583  https://www.themoviedb.org/movie/366672  \n",
       "7019  https://www.themoviedb.org/movie/826113  \n",
       "7098  https://www.themoviedb.org/movie/614934  \n",
       "7524  https://www.themoviedb.org/movie/532710  \n",
       "7590  https://www.themoviedb.org/movie/616820  \n",
       "8534  https://www.themoviedb.org/movie/676701  \n",
       "8874  https://www.themoviedb.org/movie/762504  \n",
       "9125  https://www.themoviedb.org/movie/860159  \n",
       "9169  https://www.themoviedb.org/movie/955971  "
      ]
     },
     "execution_count": 5,
     "metadata": {},
     "output_type": "execute_result"
    }
   ],
   "source": [
    "data[data['rating']=='NR']"
   ]
  },
  {
   "cell_type": "markdown",
   "id": "161a9bac",
   "metadata": {},
   "source": [
    "All the above movies are not relesed yet "
   ]
  },
  {
   "cell_type": "code",
   "execution_count": 6,
   "id": "d22c9d4e",
   "metadata": {},
   "outputs": [],
   "source": [
    "upcoming=data[data['rating']=='NR']"
   ]
  },
  {
   "cell_type": "code",
   "execution_count": 7,
   "id": "af65eca8",
   "metadata": {},
   "outputs": [],
   "source": [
    "data=data[data['rating']!='NR']"
   ]
  },
  {
   "cell_type": "code",
   "execution_count": 8,
   "id": "ba2ca5d2",
   "metadata": {},
   "outputs": [],
   "source": [
    "data.loc[data[data['rating']=='0\"'].index,'rating']=0"
   ]
  },
  {
   "cell_type": "code",
   "execution_count": 9,
   "id": "5723351a",
   "metadata": {},
   "outputs": [],
   "source": [
    "data['rating']=data['rating'].astype(int)"
   ]
  },
  {
   "cell_type": "code",
   "execution_count": 10,
   "id": "fc4bb985",
   "metadata": {
    "scrolled": true
   },
   "outputs": [
    {
     "name": "stdout",
     "output_type": "stream",
     "text": [
      "<class 'pandas.core.frame.DataFrame'>\n",
      "Int64Index: 9972 entries, 0 to 9999\n",
      "Data columns (total 7 columns):\n",
      " #   Column        Non-Null Count  Dtype \n",
      "---  ------        --------------  ----- \n",
      " 0   name          9972 non-null   object\n",
      " 1   rating        9972 non-null   int32 \n",
      " 2   genre         9895 non-null   object\n",
      " 3   release date  9972 non-null   object\n",
      " 4   runtime       9972 non-null   object\n",
      " 5   director      9883 non-null   object\n",
      " 6   url           9972 non-null   object\n",
      "dtypes: int32(1), object(6)\n",
      "memory usage: 544.6+ KB\n"
     ]
    }
   ],
   "source": [
    "data.info()"
   ]
  },
  {
   "cell_type": "code",
   "execution_count": 11,
   "id": "a986b8a0",
   "metadata": {},
   "outputs": [],
   "source": [
    "def date(x):\n",
    "    x=x[:11]\n",
    "    return(x)"
   ]
  },
  {
   "cell_type": "code",
   "execution_count": 12,
   "id": "d73849ec",
   "metadata": {},
   "outputs": [],
   "source": [
    "data['release date']=pd.to_datetime(data['release date'].apply(date))"
   ]
  },
  {
   "cell_type": "code",
   "execution_count": 13,
   "id": "9a65f5c5",
   "metadata": {},
   "outputs": [
    {
     "data": {
      "text/html": [
       "<div>\n",
       "<style scoped>\n",
       "    .dataframe tbody tr th:only-of-type {\n",
       "        vertical-align: middle;\n",
       "    }\n",
       "\n",
       "    .dataframe tbody tr th {\n",
       "        vertical-align: top;\n",
       "    }\n",
       "\n",
       "    .dataframe thead th {\n",
       "        text-align: right;\n",
       "    }\n",
       "</style>\n",
       "<table border=\"1\" class=\"dataframe\">\n",
       "  <thead>\n",
       "    <tr style=\"text-align: right;\">\n",
       "      <th></th>\n",
       "      <th>name</th>\n",
       "      <th>rating</th>\n",
       "      <th>genre</th>\n",
       "      <th>release date</th>\n",
       "      <th>runtime</th>\n",
       "      <th>director</th>\n",
       "      <th>url</th>\n",
       "    </tr>\n",
       "  </thead>\n",
       "  <tbody>\n",
       "    <tr>\n",
       "      <th>0</th>\n",
       "      <td>The Batman</td>\n",
       "      <td>79</td>\n",
       "      <td>Crime, Mystery, Thriller</td>\n",
       "      <td>2022-03-04</td>\n",
       "      <td>2h 56m</td>\n",
       "      <td>Matt Reeves</td>\n",
       "      <td>https://www.themoviedb.org/movie/414906</td>\n",
       "    </tr>\n",
       "    <tr>\n",
       "      <th>1</th>\n",
       "      <td>Spider-Man: No Way Home</td>\n",
       "      <td>82</td>\n",
       "      <td>Action, Adventure, Science Fiction</td>\n",
       "      <td>2021-12-17</td>\n",
       "      <td>2h 28m</td>\n",
       "      <td>Jon Watts</td>\n",
       "      <td>https://www.themoviedb.org/movie/634649</td>\n",
       "    </tr>\n",
       "    <tr>\n",
       "      <th>2</th>\n",
       "      <td>War of the Worlds: Annihilation</td>\n",
       "      <td>59</td>\n",
       "      <td>Science Fiction, Action</td>\n",
       "      <td>2021-12-22</td>\n",
       "      <td>1h 53m</td>\n",
       "      <td>Maximilian Elfeldt</td>\n",
       "      <td>https://www.themoviedb.org/movie/919689</td>\n",
       "    </tr>\n",
       "    <tr>\n",
       "      <th>3</th>\n",
       "      <td>Turning Red</td>\n",
       "      <td>75</td>\n",
       "      <td>Animation, Family, Comedy, Fantasy</td>\n",
       "      <td>2022-03-10</td>\n",
       "      <td>1h 40m</td>\n",
       "      <td>Domee Shi</td>\n",
       "      <td>https://www.themoviedb.org/movie/508947</td>\n",
       "    </tr>\n",
       "    <tr>\n",
       "      <th>4</th>\n",
       "      <td>Sonic the Hedgehog 2</td>\n",
       "      <td>77</td>\n",
       "      <td>Action, Science Fiction, Comedy, Family</td>\n",
       "      <td>2022-04-08</td>\n",
       "      <td>2h 2m</td>\n",
       "      <td>Jeff Fowler</td>\n",
       "      <td>https://www.themoviedb.org/movie/675353</td>\n",
       "    </tr>\n",
       "  </tbody>\n",
       "</table>\n",
       "</div>"
      ],
      "text/plain": [
       "                              name  rating  \\\n",
       "0                       The Batman      79   \n",
       "1          Spider-Man: No Way Home      82   \n",
       "2  War of the Worlds: Annihilation      59   \n",
       "3                      Turning Red      75   \n",
       "4             Sonic the Hedgehog 2      77   \n",
       "\n",
       "                                     genre release date runtime  \\\n",
       "0                 Crime, Mystery, Thriller   2022-03-04  2h 56m   \n",
       "1       Action, Adventure, Science Fiction   2021-12-17  2h 28m   \n",
       "2                  Science Fiction, Action   2021-12-22  1h 53m   \n",
       "3       Animation, Family, Comedy, Fantasy   2022-03-10  1h 40m   \n",
       "4  Action, Science Fiction, Comedy, Family   2022-04-08   2h 2m   \n",
       "\n",
       "             director                                      url  \n",
       "0         Matt Reeves  https://www.themoviedb.org/movie/414906  \n",
       "1           Jon Watts  https://www.themoviedb.org/movie/634649  \n",
       "2  Maximilian Elfeldt  https://www.themoviedb.org/movie/919689  \n",
       "3           Domee Shi  https://www.themoviedb.org/movie/508947  \n",
       "4         Jeff Fowler  https://www.themoviedb.org/movie/675353  "
      ]
     },
     "execution_count": 13,
     "metadata": {},
     "output_type": "execute_result"
    }
   ],
   "source": [
    "data.head()"
   ]
  },
  {
   "cell_type": "code",
   "execution_count": 14,
   "id": "6f32700a",
   "metadata": {},
   "outputs": [],
   "source": [
    "def run(i):\n",
    "    i=i.replace('m','')\n",
    "    i=i.split()\n",
    "    if len(i)==1:\n",
    "        if (i[0][-1]=='h'):\n",
    "            return(int(i[0][0])*60)\n",
    "        elif(i[0]=='None'):\n",
    "            i[0]=0\n",
    "            return(i[0])\n",
    "        else:\n",
    "            return(i[0][0:])\n",
    "    else:\n",
    "        return((int(i[0][0]))*60 + int(i[1]))\n",
    "    "
   ]
  },
  {
   "cell_type": "code",
   "execution_count": 15,
   "id": "6c59a924",
   "metadata": {},
   "outputs": [],
   "source": [
    "data['runtime']=data['runtime'].apply(run).astype(int)"
   ]
  },
  {
   "cell_type": "code",
   "execution_count": 16,
   "id": "79a2a553",
   "metadata": {},
   "outputs": [
    {
     "name": "stdout",
     "output_type": "stream",
     "text": [
      "<class 'pandas.core.frame.DataFrame'>\n",
      "Int64Index: 9972 entries, 0 to 9999\n",
      "Data columns (total 7 columns):\n",
      " #   Column        Non-Null Count  Dtype         \n",
      "---  ------        --------------  -----         \n",
      " 0   name          9972 non-null   object        \n",
      " 1   rating        9972 non-null   int32         \n",
      " 2   genre         9895 non-null   object        \n",
      " 3   release date  9972 non-null   datetime64[ns]\n",
      " 4   runtime       9972 non-null   int32         \n",
      " 5   director      9883 non-null   object        \n",
      " 6   url           9972 non-null   object        \n",
      "dtypes: datetime64[ns](1), int32(2), object(4)\n",
      "memory usage: 583.6+ KB\n"
     ]
    }
   ],
   "source": [
    "data.info()"
   ]
  },
  {
   "cell_type": "markdown",
   "id": "c7ed35e0",
   "metadata": {},
   "source": [
    "# According to the IMDB defination, a vedio is said to be a movie if it has a runtime of minimum 40 minutes "
   ]
  },
  {
   "cell_type": "code",
   "execution_count": 17,
   "id": "2b05c743",
   "metadata": {},
   "outputs": [],
   "source": [
    "data=data[data['runtime']>40]"
   ]
  },
  {
   "cell_type": "code",
   "execution_count": 18,
   "id": "af6b7fd6",
   "metadata": {},
   "outputs": [
    {
     "name": "stderr",
     "output_type": "stream",
     "text": [
      "C:\\Users\\ADMIN\\anaconda3\\lib\\site-packages\\seaborn\\_decorators.py:36: FutureWarning: Pass the following variable as a keyword arg: x. From version 0.12, the only valid positional argument will be `data`, and passing other arguments without an explicit keyword will result in an error or misinterpretation.\n",
      "  warnings.warn(\n"
     ]
    },
    {
     "data": {
      "image/png": "[encoded data removed]",
      "text/plain": [
       "<Figure size 1440x720 with 1 Axes>"
      ]
     },
     "metadata": {
      "needs_background": "light"
     },
     "output_type": "display_data"
    }
   ],
   "source": [
    "plt.figure(figsize=(20,10))\n",
    "sns.countplot(data[data['release date'].dt.year>1960]['release date'].dt.year)\n",
    "plt.xticks(rotation=90)\n",
    "plt.title('Movies Released per year',fontsize=20)\n",
    "plt.xlabel('Release year',fontsize=15)\n",
    "plt.ylabel('Number of Movies',fontsize=15)\n",
    "plt.show()"
   ]
  },
  {
   "cell_type": "code",
   "execution_count": 19,
   "id": "26f560eb",
   "metadata": {},
   "outputs": [
    {
     "data": {
      "text/plain": [
       "746"
      ]
     },
     "execution_count": 19,
     "metadata": {},
     "output_type": "execute_result"
    }
   ],
   "source": [
    "len(data[data['release date'].dt.year==2021])"
   ]
  },
  {
   "cell_type": "markdown",
   "id": "051e8fd8",
   "metadata": {},
   "source": [
    "# From the above graph we can see that 2021 have highest number of movie releases which is 746"
   ]
  },
  {
   "cell_type": "code",
   "execution_count": 20,
   "id": "626663d7",
   "metadata": {},
   "outputs": [
    {
     "data": {
      "text/plain": [
       "count    9582.000000\n",
       "mean     2007.125861\n",
       "std        15.126714\n",
       "min      1920.000000\n",
       "25%      2001.000000\n",
       "50%      2012.000000\n",
       "75%      2018.000000\n",
       "max      2022.000000\n",
       "Name: release date, dtype: float64"
      ]
     },
     "execution_count": 20,
     "metadata": {},
     "output_type": "execute_result"
    }
   ],
   "source": [
    "data['release date'].dt.year.describe()"
   ]
  },
  {
   "cell_type": "markdown",
   "id": "8244ee79",
   "metadata": {},
   "source": [
    "# From the above details we can say that the number of movies released each year has jumped from the year 2012. over 50% of movies has been released in the last one decade."
   ]
  },
  {
   "cell_type": "code",
   "execution_count": 21,
   "id": "99759126",
   "metadata": {},
   "outputs": [
    {
     "name": "stderr",
     "output_type": "stream",
     "text": [
      "C:\\Users\\ADMIN\\anaconda3\\lib\\site-packages\\seaborn\\_decorators.py:36: FutureWarning: Pass the following variable as a keyword arg: x. From version 0.12, the only valid positional argument will be `data`, and passing other arguments without an explicit keyword will result in an error or misinterpretation.\n",
      "  warnings.warn(\n"
     ]
    },
    {
     "data": {
      "image/png": "[encoded data removed]",
      "text/plain": [
       "<Figure size 1440x720 with 1 Axes>"
      ]
     },
     "metadata": {
      "needs_background": "light"
     },
     "output_type": "display_data"
    }
   ],
   "source": [
    "plt.figure(figsize=(20,10))\n",
    "sns.countplot(data['release date'].dt.month)\n",
    "plt.xticks(rotation=90)\n",
    "plt.title('Movies Released per Month',fontsize=20)\n",
    "plt.xlabel('Released Month',fontsize=15)\n",
    "plt.ylabel('Number of Movies',fontsize=15)\n",
    "plt.show()"
   ]
  },
  {
   "cell_type": "markdown",
   "id": "e82b44b2",
   "metadata": {},
   "source": [
    "# From all of the months october month have most number of releases"
   ]
  },
  {
   "cell_type": "code",
   "execution_count": 22,
   "id": "77ca43ba",
   "metadata": {},
   "outputs": [
    {
     "data": {
      "image/png": "[encoded data removed]",
      "text/plain": [
       "<Figure size 432x288 with 1 Axes>"
      ]
     },
     "metadata": {
      "needs_background": "light"
     },
     "output_type": "display_data"
    }
   ],
   "source": [
    "fig=plt.figure()\n",
    "plt.hist(data['runtime'],linewidth=1,range=(40,200),edgecolor='black',color='yellow',bins=15)\n",
    "plt.title('Movie Runtimes',fontsize=20)\n",
    "plt.xlabel('Minutes',fontsize=15)\n",
    "plt.ylabel('Count',fontsize=15)\n",
    "\n",
    "plt.show()"
   ]
  },
  {
   "cell_type": "markdown",
   "id": "ec87abe0",
   "metadata": {},
   "source": [
    "# We can see from above histogram that majority of the movies have a runtime between 90 to 120 minutes"
   ]
  },
  {
   "cell_type": "code",
   "execution_count": 23,
   "id": "1020b17c",
   "metadata": {},
   "outputs": [],
   "source": [
    "grp_runt=data['runtime'].groupby(data['release date'].dt.year).describe()"
   ]
  },
  {
   "cell_type": "code",
   "execution_count": 24,
   "id": "3d59c017",
   "metadata": {},
   "outputs": [],
   "source": [
    "avg_min=grp_runt['mean']-grp_runt['std']\n",
    "avg_max=grp_runt['mean']+grp_runt['std']"
   ]
  },
  {
   "cell_type": "code",
   "execution_count": 25,
   "id": "f661cc9b",
   "metadata": {},
   "outputs": [
    {
     "data": {
      "image/png": "[encoded data removed]",
      "text/plain": [
       "<Figure size 720x360 with 1 Axes>"
      ]
     },
     "metadata": {
      "needs_background": "light"
     },
     "output_type": "display_data"
    }
   ],
   "source": [
    "fig, x=plt.subplots(figsize=(10,5))\n",
    "x.plot(grp_runt['mean'],color='blue',)\n",
    "x.plot(avg_max,color='skyblue')\n",
    "x.plot(avg_min,color='skyblue')\n",
    "x.fill_between(grp_runt.index,avg_max,avg_min,color='skyblue')\n",
    "x.set_xlim(1970,2022)\n",
    "x.set_title('How Runtime of movies changed over the years',fontsize=20)\n",
    "x.set_xlabel('Release Year',fontsize=15)\n",
    "x.set_ylabel('Minutes',fontsize=15)\n",
    "plt.show()"
   ]
  },
  {
   "cell_type": "markdown",
   "id": "1121ec11",
   "metadata": {},
   "source": [
    "# From the above graph we can conclude that the runtime of movies has not changed much over the time"
   ]
  },
  {
   "cell_type": "code",
   "execution_count": 26,
   "id": "5fa1c413",
   "metadata": {},
   "outputs": [
    {
     "data": {
      "text/html": [
       "<div>\n",
       "<style scoped>\n",
       "    .dataframe tbody tr th:only-of-type {\n",
       "        vertical-align: middle;\n",
       "    }\n",
       "\n",
       "    .dataframe tbody tr th {\n",
       "        vertical-align: top;\n",
       "    }\n",
       "\n",
       "    .dataframe thead th {\n",
       "        text-align: right;\n",
       "    }\n",
       "</style>\n",
       "<table border=\"1\" class=\"dataframe\">\n",
       "  <thead>\n",
       "    <tr style=\"text-align: right;\">\n",
       "      <th></th>\n",
       "      <th>name</th>\n",
       "      <th>rating</th>\n",
       "      <th>genre</th>\n",
       "      <th>release date</th>\n",
       "      <th>runtime</th>\n",
       "      <th>director</th>\n",
       "      <th>url</th>\n",
       "    </tr>\n",
       "  </thead>\n",
       "  <tbody>\n",
       "    <tr>\n",
       "      <th>6387</th>\n",
       "      <td>Crystal Lake Memories: The Complete History of...</td>\n",
       "      <td>79</td>\n",
       "      <td>Documentary</td>\n",
       "      <td>2013-09-13</td>\n",
       "      <td>400</td>\n",
       "      <td>Daniel Farrands</td>\n",
       "      <td>https://www.themoviedb.org/movie/222724</td>\n",
       "    </tr>\n",
       "  </tbody>\n",
       "</table>\n",
       "</div>"
      ],
      "text/plain": [
       "                                                   name  rating        genre  \\\n",
       "6387  Crystal Lake Memories: The Complete History of...      79  Documentary   \n",
       "\n",
       "     release date  runtime         director  \\\n",
       "6387   2013-09-13      400  Daniel Farrands   \n",
       "\n",
       "                                          url  \n",
       "6387  https://www.themoviedb.org/movie/222724  "
      ]
     },
     "execution_count": 26,
     "metadata": {},
     "output_type": "execute_result"
    }
   ],
   "source": [
    "data[data['runtime'].max()==data['runtime']]"
   ]
  },
  {
   "cell_type": "markdown",
   "id": "398a1011",
   "metadata": {},
   "source": [
    "# The above movie has maximum runtime i.e. 400 minutes which is equal to 6 hours and 40 minutes. all the details of movie as mentioned above"
   ]
  },
  {
   "cell_type": "code",
   "execution_count": 27,
   "id": "95427734",
   "metadata": {},
   "outputs": [
    {
     "data": {
      "text/html": [
       "<div>\n",
       "<style scoped>\n",
       "    .dataframe tbody tr th:only-of-type {\n",
       "        vertical-align: middle;\n",
       "    }\n",
       "\n",
       "    .dataframe tbody tr th {\n",
       "        vertical-align: top;\n",
       "    }\n",
       "\n",
       "    .dataframe thead th {\n",
       "        text-align: right;\n",
       "    }\n",
       "</style>\n",
       "<table border=\"1\" class=\"dataframe\">\n",
       "  <thead>\n",
       "    <tr style=\"text-align: right;\">\n",
       "      <th></th>\n",
       "      <th>name</th>\n",
       "      <th>rating</th>\n",
       "      <th>genre</th>\n",
       "      <th>release date</th>\n",
       "      <th>runtime</th>\n",
       "      <th>director</th>\n",
       "      <th>url</th>\n",
       "    </tr>\n",
       "  </thead>\n",
       "  <tbody>\n",
       "    <tr>\n",
       "      <th>1599</th>\n",
       "      <td>Dragon Ball Z: Dead Zone</td>\n",
       "      <td>66</td>\n",
       "      <td>Animation, Action, Fantasy</td>\n",
       "      <td>1997-12-17</td>\n",
       "      <td>41</td>\n",
       "      <td>Daisuke Nishio</td>\n",
       "      <td>https://www.themoviedb.org/movie/28609</td>\n",
       "    </tr>\n",
       "    <tr>\n",
       "      <th>3001</th>\n",
       "      <td>Fear the Walking Dead: Dead in the Water</td>\n",
       "      <td>69</td>\n",
       "      <td>Action, Horror</td>\n",
       "      <td>2022-04-10</td>\n",
       "      <td>41</td>\n",
       "      <td>NaN</td>\n",
       "      <td>https://www.themoviedb.org/movie/960907</td>\n",
       "    </tr>\n",
       "    <tr>\n",
       "      <th>3181</th>\n",
       "      <td>Hulk vs. Thor</td>\n",
       "      <td>68</td>\n",
       "      <td>Action, Animation, Fantasy, Science Fiction</td>\n",
       "      <td>2009-01-27</td>\n",
       "      <td>41</td>\n",
       "      <td>Sam Liu</td>\n",
       "      <td>https://www.themoviedb.org/movie/101907</td>\n",
       "    </tr>\n",
       "  </tbody>\n",
       "</table>\n",
       "</div>"
      ],
      "text/plain": [
       "                                          name  rating  \\\n",
       "1599                  Dragon Ball Z: Dead Zone      66   \n",
       "3001  Fear the Walking Dead: Dead in the Water      69   \n",
       "3181                             Hulk vs. Thor      68   \n",
       "\n",
       "                                            genre release date  runtime  \\\n",
       "1599                   Animation, Action, Fantasy   1997-12-17       41   \n",
       "3001                               Action, Horror   2022-04-10       41   \n",
       "3181  Action, Animation, Fantasy, Science Fiction   2009-01-27       41   \n",
       "\n",
       "            director                                      url  \n",
       "1599  Daisuke Nishio   https://www.themoviedb.org/movie/28609  \n",
       "3001             NaN  https://www.themoviedb.org/movie/960907  \n",
       "3181         Sam Liu  https://www.themoviedb.org/movie/101907  "
      ]
     },
     "execution_count": 27,
     "metadata": {},
     "output_type": "execute_result"
    }
   ],
   "source": [
    "data[data['runtime'].min()==data['runtime']]"
   ]
  },
  {
   "cell_type": "markdown",
   "id": "89314f81",
   "metadata": {},
   "source": [
    "# The above movies has minimum runtime i.e. 41 minutes. all the details of movies as mentioned above"
   ]
  },
  {
   "cell_type": "code",
   "execution_count": 28,
   "id": "0a5caf4c",
   "metadata": {},
   "outputs": [],
   "source": [
    "grp_rating=data['rating'].groupby(data['release date'].dt.year).describe()\n",
    "rat_min=grp_rating['mean']-grp_rating['std']\n",
    "rat_max=grp_rating['mean']+grp_rating['std']"
   ]
  },
  {
   "cell_type": "code",
   "execution_count": 29,
   "id": "fe3cdc10",
   "metadata": {},
   "outputs": [
    {
     "data": {
      "image/png": "[encoded data removed]",
      "text/plain": [
       "<Figure size 720x360 with 1 Axes>"
      ]
     },
     "metadata": {
      "needs_background": "light"
     },
     "output_type": "display_data"
    }
   ],
   "source": [
    "fig, x=plt.subplots(figsize=(10,5))\n",
    "x.plot(grp_rating['mean'],color='blue',)\n",
    "x.plot(rat_max,color='skyblue')\n",
    "x.plot(rat_min,color='skyblue')\n",
    "x.fill_between(grp_rating.index,rat_max,rat_min,color='skyblue')\n",
    "x.set_xlim(1970,2021)\n",
    "x.set_title('Average Ratings of the movies over the years',fontsize=20)\n",
    "x.set_xlabel('Release Year',fontsize=15)\n",
    "x.set_ylabel('Rating',fontsize=15)\n",
    "plt.show()"
   ]
  },
  {
   "cell_type": "markdown",
   "id": "266a7099",
   "metadata": {},
   "source": [
    "# In the earlier years we can see a little fluction in the graph. as the number of movie release increased per year the graph got stable"
   ]
  },
  {
   "cell_type": "code",
   "execution_count": null,
   "id": "f5c3b151",
   "metadata": {},
   "outputs": [],
   "source": []
  },
  {
   "cell_type": "code",
   "execution_count": 30,
   "id": "05598b7d",
   "metadata": {},
   "outputs": [
    {
     "data": {
      "text/html": [
       "<div>\n",
       "<style scoped>\n",
       "    .dataframe tbody tr th:only-of-type {\n",
       "        vertical-align: middle;\n",
       "    }\n",
       "\n",
       "    .dataframe tbody tr th {\n",
       "        vertical-align: top;\n",
       "    }\n",
       "\n",
       "    .dataframe thead th {\n",
       "        text-align: right;\n",
       "    }\n",
       "</style>\n",
       "<table border=\"1\" class=\"dataframe\">\n",
       "  <thead>\n",
       "    <tr style=\"text-align: right;\">\n",
       "      <th></th>\n",
       "      <th>name</th>\n",
       "      <th>rating</th>\n",
       "      <th>genre</th>\n",
       "      <th>release date</th>\n",
       "      <th>runtime</th>\n",
       "      <th>director</th>\n",
       "      <th>url</th>\n",
       "    </tr>\n",
       "  </thead>\n",
       "  <tbody>\n",
       "    <tr>\n",
       "      <th>0</th>\n",
       "      <td>They Call Me Trinity</td>\n",
       "      <td>76</td>\n",
       "      <td>Action, Comedy, Western</td>\n",
       "      <td>1970-12-22</td>\n",
       "      <td>106</td>\n",
       "      <td>Enzo Barboni</td>\n",
       "      <td>https://www.themoviedb.org/movie/9394</td>\n",
       "    </tr>\n",
       "    <tr>\n",
       "      <th>1</th>\n",
       "      <td>A Clockwork Orange</td>\n",
       "      <td>82</td>\n",
       "      <td>Science Fiction, Drama</td>\n",
       "      <td>1971-12-19</td>\n",
       "      <td>137</td>\n",
       "      <td>Stanley Kubrick</td>\n",
       "      <td>https://www.themoviedb.org/movie/185</td>\n",
       "    </tr>\n",
       "    <tr>\n",
       "      <th>2</th>\n",
       "      <td>The Godfather</td>\n",
       "      <td>87</td>\n",
       "      <td>Drama, Crime</td>\n",
       "      <td>1972-03-14</td>\n",
       "      <td>175</td>\n",
       "      <td>Francis Ford Coppola</td>\n",
       "      <td>https://www.themoviedb.org/movie/238</td>\n",
       "    </tr>\n",
       "    <tr>\n",
       "      <th>3</th>\n",
       "      <td>The Sting</td>\n",
       "      <td>80</td>\n",
       "      <td>Comedy, Crime, Drama</td>\n",
       "      <td>1973-12-25</td>\n",
       "      <td>129</td>\n",
       "      <td>George Roy Hill</td>\n",
       "      <td>https://www.themoviedb.org/movie/9277</td>\n",
       "    </tr>\n",
       "    <tr>\n",
       "      <th>4</th>\n",
       "      <td>Amarcord</td>\n",
       "      <td>80</td>\n",
       "      <td>Comedy, Drama</td>\n",
       "      <td>1973-12-13</td>\n",
       "      <td>123</td>\n",
       "      <td>Federico Fellini</td>\n",
       "      <td>https://www.themoviedb.org/movie/7857</td>\n",
       "    </tr>\n",
       "    <tr>\n",
       "      <th>...</th>\n",
       "      <td>...</td>\n",
       "      <td>...</td>\n",
       "      <td>...</td>\n",
       "      <td>...</td>\n",
       "      <td>...</td>\n",
       "      <td>...</td>\n",
       "      <td>...</td>\n",
       "    </tr>\n",
       "    <tr>\n",
       "      <th>56</th>\n",
       "      <td>Star vs. the Forces of Evil: The Battle for Mewni</td>\n",
       "      <td>85</td>\n",
       "      <td>Fantasy, Animation, Comedy</td>\n",
       "      <td>2017-07-15</td>\n",
       "      <td>89</td>\n",
       "      <td>Aaron Hammersley,Brett Varon,Dominic Bisignano...</td>\n",
       "      <td>https://www.themoviedb.org/movie/463288</td>\n",
       "    </tr>\n",
       "    <tr>\n",
       "      <th>57</th>\n",
       "      <td>Franco Escamilla: Por La Anécdota</td>\n",
       "      <td>91</td>\n",
       "      <td>Comedy</td>\n",
       "      <td>2018-06-08</td>\n",
       "      <td>66</td>\n",
       "      <td>Ulises Valencia</td>\n",
       "      <td>https://www.themoviedb.org/movie/529414</td>\n",
       "    </tr>\n",
       "    <tr>\n",
       "      <th>58</th>\n",
       "      <td>Demon Slayer: Kimetsu no Yaiba Sibling's Bond</td>\n",
       "      <td>88</td>\n",
       "      <td>Action, Animation, Fantasy</td>\n",
       "      <td>2019-03-29</td>\n",
       "      <td>105</td>\n",
       "      <td>Haruo Sotozaki</td>\n",
       "      <td>https://www.themoviedb.org/movie/820232</td>\n",
       "    </tr>\n",
       "    <tr>\n",
       "      <th>59</th>\n",
       "      <td>The Three Deaths of Marisela Escobedo</td>\n",
       "      <td>91</td>\n",
       "      <td>Documentary, Crime</td>\n",
       "      <td>2020-10-14</td>\n",
       "      <td>109</td>\n",
       "      <td>Carlos Pérez Osorio</td>\n",
       "      <td>https://www.themoviedb.org/movie/753230</td>\n",
       "    </tr>\n",
       "    <tr>\n",
       "      <th>60</th>\n",
       "      <td>Mission «Sky»</td>\n",
       "      <td>90</td>\n",
       "      <td>Drama, War</td>\n",
       "      <td>2021-11-18</td>\n",
       "      <td>110</td>\n",
       "      <td>Igor Kopylov</td>\n",
       "      <td>https://www.themoviedb.org/movie/818415</td>\n",
       "    </tr>\n",
       "  </tbody>\n",
       "</table>\n",
       "<p>61 rows × 7 columns</p>\n",
       "</div>"
      ],
      "text/plain": [
       "                                                 name  rating  \\\n",
       "0                                They Call Me Trinity      76   \n",
       "1                                  A Clockwork Orange      82   \n",
       "2                                       The Godfather      87   \n",
       "3                                           The Sting      80   \n",
       "4                                            Amarcord      80   \n",
       "..                                                ...     ...   \n",
       "56  Star vs. the Forces of Evil: The Battle for Mewni      85   \n",
       "57                  Franco Escamilla: Por La Anécdota      91   \n",
       "58      Demon Slayer: Kimetsu no Yaiba Sibling's Bond      88   \n",
       "59              The Three Deaths of Marisela Escobedo      91   \n",
       "60                                      Mission «Sky»      90   \n",
       "\n",
       "                         genre release date  runtime  \\\n",
       "0      Action, Comedy, Western   1970-12-22      106   \n",
       "1       Science Fiction, Drama   1971-12-19      137   \n",
       "2                 Drama, Crime   1972-03-14      175   \n",
       "3         Comedy, Crime, Drama   1973-12-25      129   \n",
       "4                Comedy, Drama   1973-12-13      123   \n",
       "..                         ...          ...      ...   \n",
       "56  Fantasy, Animation, Comedy   2017-07-15       89   \n",
       "57                      Comedy   2018-06-08       66   \n",
       "58  Action, Animation, Fantasy   2019-03-29      105   \n",
       "59          Documentary, Crime   2020-10-14      109   \n",
       "60                  Drama, War   2021-11-18      110   \n",
       "\n",
       "                                             director  \\\n",
       "0                                        Enzo Barboni   \n",
       "1                                     Stanley Kubrick   \n",
       "2                                Francis Ford Coppola   \n",
       "3                                     George Roy Hill   \n",
       "4                                    Federico Fellini   \n",
       "..                                                ...   \n",
       "56  Aaron Hammersley,Brett Varon,Dominic Bisignano...   \n",
       "57                                    Ulises Valencia   \n",
       "58                                     Haruo Sotozaki   \n",
       "59                                Carlos Pérez Osorio   \n",
       "60                                       Igor Kopylov   \n",
       "\n",
       "                                        url  \n",
       "0     https://www.themoviedb.org/movie/9394  \n",
       "1      https://www.themoviedb.org/movie/185  \n",
       "2      https://www.themoviedb.org/movie/238  \n",
       "3     https://www.themoviedb.org/movie/9277  \n",
       "4     https://www.themoviedb.org/movie/7857  \n",
       "..                                      ...  \n",
       "56  https://www.themoviedb.org/movie/463288  \n",
       "57  https://www.themoviedb.org/movie/529414  \n",
       "58  https://www.themoviedb.org/movie/820232  \n",
       "59  https://www.themoviedb.org/movie/753230  \n",
       "60  https://www.themoviedb.org/movie/818415  \n",
       "\n",
       "[61 rows x 7 columns]"
      ]
     },
     "execution_count": 30,
     "metadata": {},
     "output_type": "execute_result"
    }
   ],
   "source": [
    "x=data[data['release date'].dt.year==1970][data[data['release date'].dt.year==1970]['rating'].max() == data[data['release date'].dt.year==1970]['rating']]\n",
    "for i in range(1971,2022):\n",
    "    y=data[data['release date'].dt.year==i][data[data['release date'].dt.year==i]['rating'].max() == data[data['release date'].dt.year==i]['rating']]\n",
    "    x = x.append(y, ignore_index = True)\n",
    "x"
   ]
  },
  {
   "cell_type": "markdown",
   "id": "4366642a",
   "metadata": {},
   "source": [
    "# In the above chart we have highest rated movie of each year"
   ]
  },
  {
   "cell_type": "code",
   "execution_count": 31,
   "id": "2da198f3",
   "metadata": {},
   "outputs": [],
   "source": [
    "x=data[data['rating']<=40]"
   ]
  },
  {
   "cell_type": "code",
   "execution_count": 32,
   "id": "c84d0480",
   "metadata": {},
   "outputs": [],
   "source": [
    "rat_lst=[len(x)]\n",
    "for i in range (40,100,10):\n",
    "    #print(i)\n",
    "    y=data[data['rating']>i]\n",
    "    y=y[y['rating']<=i+10]\n",
    "    rat_lst.append(len(y))"
   ]
  },
  {
   "cell_type": "code",
   "execution_count": 33,
   "id": "84586834",
   "metadata": {},
   "outputs": [
    {
     "data": {
      "image/png": "[encoded data removed]",
      "text/plain": [
       "<Figure size 432x288 with 1 Axes>"
      ]
     },
     "metadata": {},
     "output_type": "display_data"
    }
   ],
   "source": [
    "rat_val=['<40','40-50','50-60','60-70','70-80','80-90','90<']\n",
    "plt.pie(rat_lst,labels=rat_val,pctdistance=0.6,autopct='%.2f',shadow=True,radius=2)\n",
    "plt.show()"
   ]
  },
  {
   "cell_type": "markdown",
   "id": "1e6ca1de",
   "metadata": {},
   "source": [
    "# From the Above pie chart we can conclude that 67% of movies have ratings between 60-80."
   ]
  },
  {
   "cell_type": "code",
   "execution_count": 34,
   "id": "f7060243",
   "metadata": {},
   "outputs": [
    {
     "data": {
      "text/html": [
       "<div>\n",
       "<style scoped>\n",
       "    .dataframe tbody tr th:only-of-type {\n",
       "        vertical-align: middle;\n",
       "    }\n",
       "\n",
       "    .dataframe tbody tr th {\n",
       "        vertical-align: top;\n",
       "    }\n",
       "\n",
       "    .dataframe thead th {\n",
       "        text-align: right;\n",
       "    }\n",
       "</style>\n",
       "<table border=\"1\" class=\"dataframe\">\n",
       "  <thead>\n",
       "    <tr style=\"text-align: right;\">\n",
       "      <th></th>\n",
       "      <th>name</th>\n",
       "      <th>rating</th>\n",
       "      <th>genre</th>\n",
       "      <th>release date</th>\n",
       "      <th>runtime</th>\n",
       "      <th>director</th>\n",
       "      <th>url</th>\n",
       "    </tr>\n",
       "  </thead>\n",
       "  <tbody>\n",
       "    <tr>\n",
       "      <th>3087</th>\n",
       "      <td>Mission «Sky»</td>\n",
       "      <td>90</td>\n",
       "      <td>Drama, War</td>\n",
       "      <td>2021-11-18</td>\n",
       "      <td>110</td>\n",
       "      <td>Igor Kopylov</td>\n",
       "      <td>https://www.themoviedb.org/movie/818415</td>\n",
       "    </tr>\n",
       "    <tr>\n",
       "      <th>4874</th>\n",
       "      <td>Gabriel's Rapture: Part II</td>\n",
       "      <td>91</td>\n",
       "      <td>Romance</td>\n",
       "      <td>2022-03-24</td>\n",
       "      <td>102</td>\n",
       "      <td>NaN</td>\n",
       "      <td>https://www.themoviedb.org/movie/953553</td>\n",
       "    </tr>\n",
       "    <tr>\n",
       "      <th>5161</th>\n",
       "      <td>The Three Deaths of Marisela Escobedo</td>\n",
       "      <td>91</td>\n",
       "      <td>Documentary, Crime</td>\n",
       "      <td>2020-10-14</td>\n",
       "      <td>109</td>\n",
       "      <td>Carlos Pérez Osorio</td>\n",
       "      <td>https://www.themoviedb.org/movie/753230</td>\n",
       "    </tr>\n",
       "    <tr>\n",
       "      <th>5248</th>\n",
       "      <td>Franco Escamilla: Por La Anécdota</td>\n",
       "      <td>91</td>\n",
       "      <td>Comedy</td>\n",
       "      <td>2018-06-08</td>\n",
       "      <td>66</td>\n",
       "      <td>Ulises Valencia</td>\n",
       "      <td>https://www.themoviedb.org/movie/529414</td>\n",
       "    </tr>\n",
       "    <tr>\n",
       "      <th>6369</th>\n",
       "      <td>Sex School: Dorms of Desire</td>\n",
       "      <td>90</td>\n",
       "      <td>Comedy</td>\n",
       "      <td>2018-05-16</td>\n",
       "      <td>67</td>\n",
       "      <td>Cybil Richards</td>\n",
       "      <td>https://www.themoviedb.org/movie/524653</td>\n",
       "    </tr>\n",
       "    <tr>\n",
       "      <th>9305</th>\n",
       "      <td>Live! The Last Concert</td>\n",
       "      <td>95</td>\n",
       "      <td>Documentary, Music</td>\n",
       "      <td>2001-03-27</td>\n",
       "      <td>99</td>\n",
       "      <td>NaN</td>\n",
       "      <td>https://www.themoviedb.org/movie/251799</td>\n",
       "    </tr>\n",
       "  </tbody>\n",
       "</table>\n",
       "</div>"
      ],
      "text/plain": [
       "                                       name  rating               genre  \\\n",
       "3087                          Mission «Sky»      90          Drama, War   \n",
       "4874             Gabriel's Rapture: Part II      91             Romance   \n",
       "5161  The Three Deaths of Marisela Escobedo      91  Documentary, Crime   \n",
       "5248      Franco Escamilla: Por La Anécdota      91              Comedy   \n",
       "6369            Sex School: Dorms of Desire      90              Comedy   \n",
       "9305                 Live! The Last Concert      95  Documentary, Music   \n",
       "\n",
       "     release date  runtime             director  \\\n",
       "3087   2021-11-18      110         Igor Kopylov   \n",
       "4874   2022-03-24      102                  NaN   \n",
       "5161   2020-10-14      109  Carlos Pérez Osorio   \n",
       "5248   2018-06-08       66      Ulises Valencia   \n",
       "6369   2018-05-16       67       Cybil Richards   \n",
       "9305   2001-03-27       99                  NaN   \n",
       "\n",
       "                                          url  \n",
       "3087  https://www.themoviedb.org/movie/818415  \n",
       "4874  https://www.themoviedb.org/movie/953553  \n",
       "5161  https://www.themoviedb.org/movie/753230  \n",
       "5248  https://www.themoviedb.org/movie/529414  \n",
       "6369  https://www.themoviedb.org/movie/524653  \n",
       "9305  https://www.themoviedb.org/movie/251799  "
      ]
     },
     "execution_count": 34,
     "metadata": {},
     "output_type": "execute_result"
    }
   ],
   "source": [
    "data[data['rating']>=90]"
   ]
  },
  {
   "cell_type": "markdown",
   "id": "60ce111e",
   "metadata": {},
   "source": [
    "# Above chart shows movies which have ratings higher & equal to 90"
   ]
  },
  {
   "cell_type": "code",
   "execution_count": 35,
   "id": "cb3e25a8",
   "metadata": {},
   "outputs": [],
   "source": [
    "dirct=data['director'].value_counts().head(15)"
   ]
  },
  {
   "cell_type": "code",
   "execution_count": 36,
   "id": "b7b4f1e9",
   "metadata": {},
   "outputs": [
    {
     "data": {
      "image/png": "[encoded data removed]",
      "text/plain": [
       "<Figure size 1080x720 with 1 Axes>"
      ]
     },
     "metadata": {
      "needs_background": "light"
     },
     "output_type": "display_data"
    }
   ],
   "source": [
    "data['director'].value_counts().head(15).plot.bar(figsize=(15,10),color='skyblue')\n",
    "plt.title('Top 15 Directors with most number of Movies',fontsize=20)\n",
    "plt.xlabel(\"Director name\",fontsize=15)\n",
    "plt.ylabel(\"number of movies\",fontsize=15)\n",
    "plt.show()"
   ]
  },
  {
   "cell_type": "markdown",
   "id": "1b6d718e",
   "metadata": {},
   "source": [
    "# Clint Eastwood have directed most number of movies (31) in the given dataset"
   ]
  },
  {
   "cell_type": "code",
   "execution_count": 37,
   "id": "660dde32",
   "metadata": {},
   "outputs": [],
   "source": [
    "data=data[data['genre'].isnull()==False]"
   ]
  },
  {
   "cell_type": "code",
   "execution_count": 38,
   "id": "b1e7547d",
   "metadata": {},
   "outputs": [],
   "source": [
    "gn=['Action','Drama','Comedy','Thriller','Adventure','Horror','Animation','Family','Romance','Science Fiction','Fantasy',\n",
    "    'Crime','Mystery','History','Music','Documentary','War','TV Movie','Western']"
   ]
  },
  {
   "cell_type": "code",
   "execution_count": 39,
   "id": "01f05d83",
   "metadata": {},
   "outputs": [],
   "source": [
    "gn_no=[]\n",
    "for i in gn:\n",
    "    gn_no.append(len(data[data['genre'].str.contains(i)]))"
   ]
  },
  {
   "cell_type": "code",
   "execution_count": 40,
   "id": "b0ea00d0",
   "metadata": {},
   "outputs": [
    {
     "data": {
      "image/png": "[encoded data removed]",
      "text/plain": [
       "<Figure size 1440x720 with 1 Axes>"
      ]
     },
     "metadata": {
      "needs_background": "light"
     },
     "output_type": "display_data"
    }
   ],
   "source": [
    "plt.figure(figsize=(20,10))\n",
    "sns.barplot(x=gn,y=gn_no)\n",
    "plt.title('No. of movies per genre',fontsize=20)\n",
    "plt.xlabel(\"Genre's\",fontsize=15)\n",
    "plt.ylabel(\"number of movies\",fontsize=15)\n",
    "plt.show()"
   ]
  },
  {
   "cell_type": "markdown",
   "id": "75e93bcd",
   "metadata": {},
   "source": [
    "# From the above graph we can say that highest movies is in Drama category"
   ]
  },
  {
   "cell_type": "code",
   "execution_count": null,
   "id": "4bd8e756",
   "metadata": {},
   "outputs": [],
   "source": []
  }
 ],
 "metadata": {
  "kernelspec": {
   "display_name": "Python 3",
   "language": "python",
   "name": "python3"
  },
  "language_info": {
   "codemirror_mode": {
    "name": "ipython",
    "version": 3
   },
   "file_extension": ".py",
   "mimetype": "text/x-python",
   "name": "python",
   "nbconvert_exporter": "python",
   "pygments_lexer": "ipython3",
   "version": "3.8.8"
  }
 },
 "nbformat": 4,
 "nbformat_minor": 5
}
